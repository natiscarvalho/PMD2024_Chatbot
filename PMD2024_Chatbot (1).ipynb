{
 "cells": [
  {
   "cell_type": "markdown",
   "metadata": {
    "application/vnd.databricks.v1+cell": {
     "cellMetadata": {},
     "inputWidgets": {},
     "nuid": "e3fba73c-6e29-4464-82e7-adec21b95aff",
     "showTitle": false,
     "title": ""
    }
   },
   "source": [
    "# Conexão Spark & MongoDB Atlas"
   ]
  },
  {
   "cell_type": "code",
   "execution_count": 0,
   "metadata": {
    "application/vnd.databricks.v1+cell": {
     "cellMetadata": {
      "byteLimit": 2048000,
      "rowLimit": 10000
     },
     "inputWidgets": {},
     "nuid": "03801566-6f14-4492-834c-7b92267f894a",
     "showTitle": false,
     "title": ""
    }
   },
   "outputs": [],
   "source": [
    "connectionString=''\n",
    "database=\"\"\n",
    "collection=\"chats\"\n",
    "\n",
    "# URL e API do Chatbot\n",
    "url = \"\" \n",
    "api_key = \"\"  "
   ]
  },
  {
   "cell_type": "code",
   "execution_count": 0,
   "metadata": {
    "application/vnd.databricks.v1+cell": {
     "cellMetadata": {
      "byteLimit": 2048000,
      "rowLimit": 10000
     },
     "inputWidgets": {},
     "nuid": "baa9516d-91a7-47d6-9bd8-855840a9bad6",
     "showTitle": false,
     "title": ""
    }
   },
   "outputs": [],
   "source": [
    "df = spark.read.format(\"mongo\").option(\"database\", database).option(\"spark.mongodb.input.uri\", connectionString).option(\"collection\",\"chats\").load()"
   ]
  },
  {
   "cell_type": "code",
   "execution_count": 0,
   "metadata": {
    "application/vnd.databricks.v1+cell": {
     "cellMetadata": {
      "byteLimit": 2048000,
      "rowLimit": 10000
     },
     "inputWidgets": {},
     "nuid": "558efa8e-348c-4b38-95cf-c507df276bcb",
     "showTitle": false,
     "title": ""
    }
   },
   "outputs": [
    {
     "output_type": "stream",
     "name": "stdout",
     "output_type": "stream",
     "text": [
      "root\n |-- _id: struct (nullable = true)\n |    |-- oid: string (nullable = true)\n |-- id: string (nullable = true)\n |-- last_message: string (nullable = true)\n |-- questions: array (nullable = true)\n |    |-- element: struct (containsNull = true)\n |    |    |-- ask_more_information: boolean (nullable = true)\n |    |    |-- call_status: boolean (nullable = true)\n |    |    |-- cancellation: boolean (nullable = true)\n |    |    |-- data_store_id: string (nullable = true)\n |    |    |-- doubt: boolean (nullable = true)\n |    |    |-- hack_fraud: boolean (nullable = true)\n |    |    |-- human_assistance: boolean (nullable = true)\n |    |    |-- id: string (nullable = true)\n |    |    |-- instability: boolean (nullable = true)\n |    |    |-- jailbreak: boolean (nullable = true)\n |    |    |-- metadata: struct (nullable = true)\n |    |    |    |-- ask_more_information: boolean (nullable = true)\n |    |    |    |-- data_store_id: string (nullable = true)\n |    |    |    |-- dict_intent: struct (nullable = true)\n |    |    |    |    |-- call_status: boolean (nullable = true)\n |    |    |    |    |-- cancellation: boolean (nullable = true)\n |    |    |    |    |-- doubt: boolean (nullable = true)\n |    |    |    |    |-- hack_fraud: boolean (nullable = true)\n |    |    |    |    |-- human_assistance: boolean (nullable = true)\n |    |    |    |    |-- instability: boolean (nullable = true)\n |    |    |    |    |-- jailbreak: boolean (nullable = true)\n |    |    |    |    |-- negotiation: boolean (nullable = true)\n |    |    |    |    |-- toxicity: boolean (nullable = true)\n |    |    |    |-- source_documents: array (nullable = true)\n |    |    |    |    |-- element: struct (containsNull = true)\n |    |    |    |    |    |-- id: array (nullable = true)\n |    |    |    |    |    |    |-- element: string (containsNull = true)\n |    |    |    |    |    |-- kwargs: struct (nullable = true)\n |    |    |    |    |    |    |-- metadata: struct (nullable = true)\n |    |    |    |    |    |    |    |-- id: string (nullable = true)\n |    |    |    |    |    |    |    |-- relevance_score: double (nullable = true)\n |    |    |    |    |    |    |    |-- source: string (nullable = true)\n |    |    |    |    |    |    |-- page_content: string (nullable = true)\n |    |    |    |    |    |-- lc: long (nullable = true)\n |    |    |    |    |    |-- type: string (nullable = true)\n |    |    |    |-- type_doubt: string (nullable = true)\n |    |    |-- negotiation: boolean (nullable = true)\n |    |    |-- question: string (nullable = true)\n |    |    |-- question_date: string (nullable = true)\n |    |    |-- response: string (nullable = true)\n |    |    |-- response_date: string (nullable = true)\n |    |    |-- response_time: string (nullable = true)\n |    |    |-- source_documents: array (nullable = true)\n |    |    |    |-- element: struct (containsNull = true)\n |    |    |    |    |-- page_content: string (nullable = true)\n |    |    |    |    |-- source: string (nullable = true)\n |    |    |-- status: string (nullable = true)\n |    |    |-- time: string (nullable = true)\n |    |    |-- toxicity: boolean (nullable = true)\n |    |    |-- type_doubt: string (nullable = true)\n |-- user: struct (nullable = true)\n |    |-- name: string (nullable = true)\n |    |-- tenant_id: string (nullable = true)\n |    |-- user_id: string (nullable = true)\n |    |-- user_type_blip: string (nullable = true)\n\n"
     ]
    }
   ],
   "source": [
    "df.printSchema()"
   ]
  },
  {
   "cell_type": "markdown",
   "metadata": {
    "application/vnd.databricks.v1+cell": {
     "cellMetadata": {},
     "inputWidgets": {},
     "nuid": "0db0cbea-a439-4a5a-a563-bc8310037967",
     "showTitle": false,
     "title": ""
    }
   },
   "source": [
    "# Consulta 1 - Identificar e analisar a relevância dos artigos que ajudam a responder questões em conversas relacionadas a problemas com notas fiscais."
   ]
  },
  {
   "cell_type": "code",
   "execution_count": 0,
   "metadata": {
    "application/vnd.databricks.v1+cell": {
     "cellMetadata": {
      "byteLimit": 2048000,
      "rowLimit": 10000
     },
     "inputWidgets": {},
     "nuid": "5f9f39f8-aa86-4e87-a634-9eb15176aa5b",
     "showTitle": false,
     "title": ""
    }
   },
   "outputs": [
    {
     "output_type": "stream",
     "name": "stdout",
     "output_type": "stream",
     "text": [
      "+---------+-------------------+\n|doc_index|avg_relevance_score|\n+---------+-------------------+\n|        1| 0.3930434769262438|\n|        2| 0.3423913056435792|\n|        3|0.35782608551823575|\n|        4|0.36543478201264923|\n|        5| 0.3376086932485518|\n+---------+-------------------+\n\n"
     ]
    }
   ],
   "source": [
    "from pyspark.sql.functions import explode, col, avg, row_number, expr\n",
    "from pyspark.sql.window import Window\n",
    "\n",
    "\n",
    "df_expanded_questions = df.withColumn(\"question\", explode(\"questions\"))\n",
    "\n",
    "# Filtra as perguntas que contêm 'nota fiscal', 'nfe', ou 'nf-e'\n",
    "df_filtered = df_expanded_questions.filter(\n",
    "    (col(\"question.question\").contains(\"nota fiscal\")) | \n",
    "    (col(\"question.question\").contains(\"nfe\")) | \n",
    "    (col(\"question.question\").contains(\"nf-e\"))\n",
    ")\n",
    "\n",
    "# Expande o array de source_documents dentro de cada question\n",
    "df_expanded = df_filtered.withColumn(\"document\", explode(\"question.metadata.source_documents\")) \\\n",
    "    .select(\n",
    "        col(\"question.id\").alias(\"question_id\"),\n",
    "        col(\"document.kwargs.metadata.relevance_score\").alias(\"relevance_score\"),\n",
    "        col(\"document.kwargs.metadata.id\").alias(\"document_id\")\n",
    "    )\n",
    "\n",
    "# Adiciona uma coluna para índice de documentos\n",
    "window_spec = Window.partitionBy(\"question_id\").orderBy(\"document_id\")\n",
    "df_with_index = df_expanded.withColumn(\"doc_index\", row_number().over(window_spec))\n",
    "\n",
    "# Calcula a média dos scores de relevância para cada índice de documento\n",
    "average_scores = df_with_index.groupBy(\"doc_index\").agg(avg(\"relevance_score\").alias(\"avg_relevance_score\")) \\\n",
    "    .orderBy(\"doc_index\")\n",
    "\n",
    "average_scores.show()\n"
   ]
  },
  {
   "cell_type": "markdown",
   "metadata": {
    "application/vnd.databricks.v1+cell": {
     "cellMetadata": {},
     "inputWidgets": {},
     "nuid": "669056ca-be86-44f2-b860-e8c3ef701301",
     "showTitle": false,
     "title": ""
    }
   },
   "source": [
    "Na consulta acima, nós temos a média de relevância dos artigos recuperamos para responder perguntas que envolvem nota fiscal. Podemos ver que os artigos recuperados possuem uma relevância baixa no contexto geral."
   ]
  },
  {
   "cell_type": "markdown",
   "metadata": {
    "application/vnd.databricks.v1+cell": {
     "cellMetadata": {},
     "inputWidgets": {},
     "nuid": "fcbba192-82f7-469e-8ade-46140a29bf79",
     "showTitle": false,
     "title": ""
    }
   },
   "source": [
    "# Consulta 2 - Avaliar a performance mensal do chatbot, calculando a porcentagem de casos em que o chatbot resolveu problemas sozinho em comparação com os casos que necessitaram de intervenção humana."
   ]
  },
  {
   "cell_type": "code",
   "execution_count": 0,
   "metadata": {
    "application/vnd.databricks.v1+cell": {
     "cellMetadata": {
      "byteLimit": 2048000,
      "rowLimit": 10000
     },
     "inputWidgets": {},
     "nuid": "2c25dc3f-c203-4d00-a8f1-3e4b1eeb1459",
     "showTitle": false,
     "title": ""
    }
   },
   "outputs": [
    {
     "output_type": "stream",
     "name": "stdout",
     "output_type": "stream",
     "text": [
      "+----+-----+------------------------+----------------------+-----------+-------------------+\n|year|month|total_human_intervention|total_chatbot_resolved|total_cases|chatbot_performance|\n+----+-----+------------------------+----------------------+-----------+-------------------+\n|2024|    7|                     954|                  2371|       3325|               71.3|\n|2024|    8|                       0|                    11|         11|              100.0|\n|2024|    9|                       1|                     4|          5|               80.0|\n+----+-----+------------------------+----------------------+-----------+-------------------+\n\n"
     ]
    }
   ],
   "source": [
    "from pyspark.sql.functions import explode, col, month, year, sum as spark_sum, count, when, round\n",
    "\n",
    "# Expande o array de questions\n",
    "df_expanded = df.withColumn(\"question\", explode(\"questions\"))\n",
    "\n",
    "# Extraindo o mês e ano da data da pergunta\n",
    "df_expanded = df_expanded.withColumn(\"month\", month(col(\"question.question_date\"))) \\\n",
    "    .withColumn(\"year\", year(col(\"question.question_date\")))\n",
    "\n",
    "# Criando colunas para identificar intervenção humana e resolução pelo chatbot\n",
    "df_expanded = df_expanded.withColumn(\"human_intervention\", when(col(\"question.metadata.dict_intent.human_assistance\") == True, 1).otherwise(0)) \\\n",
    "    .withColumn(\"chatbot_resolved\", when(col(\"question.metadata.dict_intent.human_assistance\") == False, 1).otherwise(0))\n",
    "\n",
    "# Removendo dados nulos\n",
    "df_filtered = df_expanded.filter(col(\"month\").isNotNull() & col(\"year\").isNotNull() & col(\"question.metadata.dict_intent.human_assistance\").isNotNull())\n",
    "\n",
    "# Agrupando por mês e ano e calculando a performance\n",
    "df_performance = df_filtered.groupBy(\"year\", \"month\") \\\n",
    "    .agg(\n",
    "        spark_sum(\"human_intervention\").alias(\"total_human_intervention\"),\n",
    "        spark_sum(\"chatbot_resolved\").alias(\"total_chatbot_resolved\"),\n",
    "        count(\"*\").alias(\"total_cases\")\n",
    "    ) \\\n",
    "    .withColumn(\"chatbot_performance\", round((col(\"total_chatbot_resolved\") / col(\"total_cases\")) * 100, 1)) \\\n",
    "    .orderBy(\"year\", \"month\")\n",
    "\n",
    "# Exibindo o resultado\n",
    "df_performance.show()\n"
   ]
  },
  {
   "cell_type": "markdown",
   "metadata": {
    "application/vnd.databricks.v1+cell": {
     "cellMetadata": {},
     "inputWidgets": {},
     "nuid": "1d77a2a5-d74d-4c06-9e8e-ac001039dcbf",
     "showTitle": false,
     "title": ""
    }
   },
   "source": [
    "Na consulta acima, analisamos a assistência humana necessária durante as interações com o chatbot, distinguindo entre casos onde a intervenção foi necessária e aqueles em que o chatbot conseguiu resolver o problema sozinho. A partir dessas informações, calculamos a performance do chatbot em termos de porcentagem de casos resolvidos sem intervenção humana.\n",
    "\n",
    "Além disso, para facilitar a análise, extraímos e agrupamos os dados por mês e ano, permitindo uma visão detalhada da performance do chatbot ao longo do tempo.\n",
    "\n",
    "Abaixo faremos a escrita dos dados retornados da consulta na collection `analises_mensais`:"
   ]
  },
  {
   "cell_type": "code",
   "execution_count": 0,
   "metadata": {
    "application/vnd.databricks.v1+cell": {
     "cellMetadata": {
      "byteLimit": 2048000,
      "rowLimit": 10000
     },
     "inputWidgets": {},
     "nuid": "9e88fe73-d208-4699-8a34-9410427ce558",
     "showTitle": false,
     "title": ""
    }
   },
   "outputs": [],
   "source": [
    "# Define as opções para a nova coleção no MongoDB\n",
    "connectionString=''\n",
    "database_name = ''\n",
    "collection_name = 'analises_mensais'\n",
    "\n",
    "# Escreve o DataFrame df_performance na nova coleção no MongoDB\n",
    "df_performance.write \\\n",
    "    .format(\"mongo\") \\\n",
    "    .mode(\"overwrite\") \\\n",
    "    .option(\"database\", database_name) \\\n",
    "    .option(\"collection\", collection_name) \\\n",
    "    .option(\"spark.mongodb.output.uri\", connectionString) \\\n",
    "    .save()\n"
   ]
  },
  {
   "cell_type": "markdown",
   "metadata": {
    "application/vnd.databricks.v1+cell": {
     "cellMetadata": {},
     "inputWidgets": {},
     "nuid": "6e6699d0-e73d-4db4-85cf-ac09624e1feb",
     "showTitle": false,
     "title": ""
    }
   },
   "source": [
    "# Escrita no MongoDB via Spark\n"
   ]
  },
  {
   "cell_type": "markdown",
   "metadata": {
    "application/vnd.databricks.v1+cell": {
     "cellMetadata": {},
     "inputWidgets": {},
     "nuid": "5ea83303-b604-4013-ac3e-da5597819f0a",
     "showTitle": false,
     "title": ""
    }
   },
   "source": [
    "O que iremos fazer é:\n",
    "\n",
    "1. Definir uma pergunta\n",
    "2. Criar uma thread-id\n",
    "3. Enviar a pergunta para a API\n",
    "4. Escrever a thread id e a resposta da API no MongoDB"
   ]
  },
  {
   "cell_type": "code",
   "execution_count": 0,
   "metadata": {
    "application/vnd.databricks.v1+cell": {
     "cellMetadata": {
      "byteLimit": 2048000,
      "rowLimit": 10000
     },
     "inputWidgets": {},
     "nuid": "09b098a0-e5cd-41ec-a4d2-fae372baaa57",
     "showTitle": false,
     "title": ""
    }
   },
   "outputs": [
    {
     "output_type": "stream",
     "name": "stdout",
     "output_type": "stream",
     "text": [
      "thread id: thread_704baca3\nRequisição bem-sucedida!\n+---------------+-------------------------------------------------------------------------------------------------------------------------------------------------------------------------------------+----------------------------------------------------+-----------------------+\n|id             |questions                                                                                                                                                                            |user                                                |last_message           |\n+---------------+-------------------------------------------------------------------------------------------------------------------------------------------------------------------------------------+----------------------------------------------------+-----------------------+\n|thread_704baca3|[{{supercami_search_app_v1, {false, false, false, false, true, false, false, false, false}, [], dono_de_negocio}, , 2024-09-03 18:32:09, , 2024-09-03 18:32:09, 2024-09-03 18:32:09}]|{, 1729226, 351928129240@wa.gw.msging.net, contador}|2024-09-03 18:32:11.869|\n+---------------+-------------------------------------------------------------------------------------------------------------------------------------------------------------------------------------+----------------------------------------------------+-----------------------+\n\nDados inseridos no MongoDB com sucesso.\n"
     ]
    }
   ],
   "source": [
    "import requests\n",
    "import json\n",
    "import uuid\n",
    "from pyspark.sql import SparkSession\n",
    "from pyspark.sql.functions import current_timestamp\n",
    "\n",
    "question = \"Quero falar com atendente\"\n",
    "\n",
    "spark = SparkSession.builder \\\n",
    "    .appName(\"Write Nested Data to MongoDB\") \\\n",
    "    .getOrCreate()\n",
    "\n",
    "def create_thread_id():\n",
    "    return f\"thread_{uuid.uuid4().hex[:8]}\"\n",
    "\n",
    "# Criação de thread_id aleatória\n",
    "thread_id = create_thread_id()\n",
    "print(\"thread id:\", thread_id)\n",
    "\n",
    "# Definição dos cabeçalhos e payload\n",
    "headers = {\n",
    "    \"Content-Type\": \"application/json\",\n",
    "    \"x-api-key\": api_key\n",
    "}\n",
    "\n",
    "payload = {\n",
    "    \"contactIdentity\": \"00_teste\",\n",
    "    \"camiThreadId\": thread_id,\n",
    "    \"question\": question\n",
    "}\n",
    "\n",
    "# Envio da requisição POST\n",
    "response = requests.post(url, headers=headers, json=payload)\n",
    "\n",
    "if response.status_code == 200:\n",
    "    print(\"Requisição bem-sucedida!\")\n",
    "    data = response.json()\n",
    "\n",
    "    # Dados adicionais com a resposta\n",
    "    formatted_data = {\n",
    "        \"id\": thread_id,\n",
    "        \"user\": {\n",
    "            \"user_type_blip\": \"contador\",\n",
    "            \"name\": \"\",\n",
    "            \"user_id\": \"351928129240@wa.gw.msging.net\",\n",
    "            \"tenant_id\": \"1729226\"\n",
    "        },\n",
    "        \"questions\": [{\n",
    "            \"question\": data.get(\"question\", \"\"),\n",
    "            \"question_date\": data.get(\"time\", \"\"),\n",
    "            \"response\": data.get(\"response\", \"\"),\n",
    "            \"response_date\": data.get(\"time\", \"\"),\n",
    "            \"response_time\": data.get(\"time\", \"\"),\n",
    "            \"metadata\": {\n",
    "                \"type_doubt\": data.get(\"type_doubt\", \"\"),\n",
    "                \"dict_intent\": {\n",
    "                    \"call_status\": data.get(\"call_status\", False),\n",
    "                    \"cancellation\": data.get(\"cancellation\", False),\n",
    "                    \"doubt\": data.get(\"doubt\", False),\n",
    "                    \"hack_fraud\": data.get(\"hack_fraud\", False),\n",
    "                    \"human_assistance\": data.get(\"human_assistance\", False),\n",
    "                    \"instability\": data.get(\"instability\", False),\n",
    "                    \"jailbreak\": data.get(\"jailbreak\", False),\n",
    "                    \"negotiation\": data.get(\"negotiation\", False),\n",
    "                    \"toxicity\": data.get(\"toxicity\", False)\n",
    "                },\n",
    "                \"source_documents\": [\n",
    "                    {\n",
    "                        \"type\": doc.get(\"type\", \"constructor\"),\n",
    "                        \"id\": doc.get(\"id\", []),\n",
    "                        \"lc\": doc.get(\"lc\", 1),\n",
    "                        \"kwargs\": {\n",
    "                            \"metadata\": {\n",
    "                                \"id\": doc.get(\"kwargs\", {}).get(\"metadata\", {}).get(\"id\", \"\"),\n",
    "                                \"relevance_score\": doc.get(\"kwargs\", {}).get(\"metadata\", {}).get(\"relevance_score\", 0.0),\n",
    "                                \"source\": doc.get(\"kwargs\", {}).get(\"metadata\", {}).get(\"source\", \"\")\n",
    "                            },\n",
    "                            \"page_content\": doc.get(\"kwargs\", {}).get(\"page_content\", \"\")\n",
    "                        }\n",
    "                    } for doc in data.get(\"source_documents\", [])\n",
    "                ],\n",
    "                \"data_store_id\": data.get(\"data_store_id\", \"\")\n",
    "            }\n",
    "        }]\n",
    "    }\n",
    "\n",
    "    # Convertendo para JSON e depois para DataFrame\n",
    "    json_str = json.dumps([formatted_data])\n",
    "    rdd = spark.sparkContext.parallelize([json_str])\n",
    "    df = spark.read.json(rdd)\n",
    "\n",
    "    # Adicionando timestamp\n",
    "    df = df.withColumn(\"last_message\", current_timestamp())\n",
    "\n",
    "    # Mostrar o DataFrame para verificação\n",
    "    df.show(truncate=False)\n",
    "\n",
    "    # Escrever no MongoDB (ajustar configurações)\n",
    "    df.write.format(\"mongo\") \\\n",
    "        .option(\"spark.mongodb.output.uri\", connectionString) \\\n",
    "        .option(\"database\", database) \\\n",
    "        .option(\"collection\", collection) \\\n",
    "        .mode(\"append\") \\\n",
    "        .save()\n",
    "\n",
    "    print(\"Dados inseridos no MongoDB com sucesso.\")\n",
    "else:\n",
    "    print(\"Erro na requisição:\", response.status_code)\n",
    "    print(\"Mensagem de erro:\", response.text)\n",
    "\n",
    "    # Capturar o timestamp como string\n",
    "    error_timestamp = datetime.now().isoformat()\n",
    "\n",
    "    # Formatar dados de erro\n",
    "    error_log = {\n",
    "        \"id\": thread_id,\n",
    "        \"error_message\": response.text,\n",
    "        \"status_code\": response.status_code,\n",
    "        \"timestamp\": error_timestamp\n",
    "    }\n",
    "\n",
    "    # Convertendo para JSON e depois para DataFrame\n",
    "    error_json_str = json.dumps([error_log])\n",
    "    error_rdd = spark.sparkContext.parallelize([error_json_str])\n",
    "    error_df = spark.read.json(error_rdd)\n",
    "\n",
    "    # Escrever no MongoDB (coleção de logs)\n",
    "    error_df.write.format(\"mongo\") \\\n",
    "        .option(\"spark.mongodb.output.uri\", connectionString) \\\n",
    "        .option(\"database\", database) \\\n",
    "        .option(\"collection\", \"error_logs\") \\\n",
    "        .mode(\"append\") \\\n",
    "        .save()\n",
    "\n",
    "    print(\"Log de erro inserido no MongoDB com sucesso.\")"
   ]
  },
  {
   "cell_type": "markdown",
   "metadata": {
    "application/vnd.databricks.v1+cell": {
     "cellMetadata": {},
     "inputWidgets": {},
     "nuid": "b881b535-d2ab-4d44-b679-c671adeb357a",
     "showTitle": false,
     "title": ""
    }
   },
   "source": [
    "# Leitura no MongoDB"
   ]
  },
  {
   "cell_type": "markdown",
   "metadata": {
    "application/vnd.databricks.v1+cell": {
     "cellMetadata": {},
     "inputWidgets": {},
     "nuid": "2c6b4043-d3a4-4b3e-ad16-1e0c1318fe8a",
     "showTitle": false,
     "title": ""
    }
   },
   "source": [
    "Por fim, iremos recuperar a resposta da IA a partir do thread id em que foi feita a pergunta."
   ]
  },
  {
   "cell_type": "code",
   "execution_count": 0,
   "metadata": {
    "application/vnd.databricks.v1+cell": {
     "cellMetadata": {
      "byteLimit": 2048000,
      "rowLimit": 10000
     },
     "inputWidgets": {},
     "nuid": "b5ad5f99-26d9-47b7-a1d9-4548e7b5d5ef",
     "showTitle": false,
     "title": ""
    }
   },
   "outputs": [
    {
     "output_type": "stream",
     "name": "stdout",
     "output_type": "stream",
     "text": [
      "+--------+\n|response|\n+--------+\n|        |\n+--------+\n\n"
     ]
    }
   ],
   "source": [
    "df = spark.read.format(\"mongo\").option(\"database\", database).option(\"spark.mongodb.input.uri\", connectionString).option(\"collection\",collection).load()\n",
    "\n",
    "# Filtrar os dados pelo thread_id específico\n",
    "filtered_df = df.filter(df[\"id\"] == thread_id)\n",
    "\n",
    "response_df = filtered_df.withColumn(\"response\", explode(col(\"questions\")))\n",
    "\n",
    "# Selecionar e mostrar somente a resposta\n",
    "final_df = response_df.select(\"response.response\")\n",
    "\n",
    "final_df.show(truncate=False)"
   ]
  }
 ],
 "metadata": {
  "application/vnd.databricks.v1+notebook": {
   "dashboards": [],
   "environmentMetadata": null,
   "language": "python",
   "notebookMetadata": {
    "pythonIndentUnit": 4
   },
   "notebookName": "PMD2024_Chatbot (1)",
   "widgets": {}
  }
 },
 "nbformat": 4,
 "nbformat_minor": 0
}
